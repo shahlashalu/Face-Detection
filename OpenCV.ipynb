{
 "cells": [
  {
   "cell_type": "markdown",
   "id": "df87ab37-e931-4307-a225-5bc42680dde1",
   "metadata": {},
   "source": [
    "# **Mini-Project: \"Face Detection and Highlighting in Live Video Feed\"**"
   ]
  },
  {
   "cell_type": "markdown",
   "id": "983859f6-0b1b-46d8-8f66-17e888ef35d3",
   "metadata": {},
   "source": [
    "## **1. Installing OpenCV:**"
   ]
  },
  {
   "cell_type": "code",
   "execution_count": 3,
   "id": "dc1ff7b1-c81c-429c-938b-b888ddf36043",
   "metadata": {},
   "outputs": [
    {
     "name": "stdout",
     "output_type": "stream",
     "text": [
      "Requirement already satisfied: opencv-python in c:\\users\\hp\\anaconda3\\lib\\site-packages (4.10.0.84)\n",
      "Requirement already satisfied: numpy>=1.21.2 in c:\\users\\hp\\anaconda3\\lib\\site-packages (from opencv-python) (1.26.4)\n",
      "Note: you may need to restart the kernel to use updated packages.\n"
     ]
    }
   ],
   "source": [
    "pip install opencv-python"
   ]
  },
  {
   "cell_type": "markdown",
   "id": "68e106c7-902f-4189-81cc-ef81857ddb82",
   "metadata": {},
   "source": [
    "## **2. Reading and Displaying an Image:**"
   ]
  },
  {
   "cell_type": "code",
   "execution_count": 27,
   "id": "fe48ba3f-7194-4885-aaef-ad4cae6ed2cc",
   "metadata": {},
   "outputs": [],
   "source": [
    "import cv2\n",
    "img = cv2.imread('sampleimage.jpg')\n",
    "cv2.imshow('Image', img)\n",
    "cv2.waitKey(20000)\n",
    "cv2.destroyAllWindows()"
   ]
  },
  {
   "cell_type": "markdown",
   "id": "2855d144-d75d-4025-a620-881493df1b49",
   "metadata": {},
   "source": [
    "## **3. Accessing Image Properties:**"
   ]
  },
  {
   "cell_type": "code",
   "execution_count": 12,
   "id": "9bdfc5b5-e692-4aae-ad28-e578a9419954",
   "metadata": {},
   "outputs": [
    {
     "name": "stdout",
     "output_type": "stream",
     "text": [
      "Dimensions: (683, 1024, 3)\n",
      "RGB value at (50,50): [102 107 106]\n"
     ]
    }
   ],
   "source": [
    "print(f\"Dimensions: {img.shape}\")\n",
    "print(f\"RGB value at (50,50): {img[50,50]}\")"
   ]
  },
  {
   "cell_type": "markdown",
   "id": "dced09ab-08b7-489f-9e17-8c21ba2e3d80",
   "metadata": {},
   "source": [
    "## **4. Converting to Grayscale and Edge Detection:**"
   ]
  },
  {
   "cell_type": "code",
   "execution_count": 28,
   "id": "e1ceab62-20d9-4cbf-8e8f-73037c2aa79b",
   "metadata": {},
   "outputs": [
    {
     "data": {
      "text/plain": [
       "-1"
      ]
     },
     "execution_count": 28,
     "metadata": {},
     "output_type": "execute_result"
    }
   ],
   "source": [
    "gray_img = cv2.cvtColor(img, cv2.COLOR_BGR2GRAY)\n",
    "edges = cv2.Canny(gray_img, 100, 200)\n",
    "cv2.imshow('Edges', edges)\n",
    "cv2.waitKey(20000)"
   ]
  },
  {
   "cell_type": "markdown",
   "id": "c29776f8-a77a-4aac-ae2f-6b039ce080e4",
   "metadata": {},
   "source": [
    "## **5. Using Video Capture and Face Detection:** "
   ]
  },
  {
   "cell_type": "code",
   "execution_count": 25,
   "id": "d80c98d8-df42-4ef1-b035-02b5ea12acd6",
   "metadata": {},
   "outputs": [],
   "source": [
    "face_cascade = cv2.CascadeClassifier(cv2.data.haarcascades + 'haarcascade_frontalface_default.xml')\n",
    "cap = cv2.VideoCapture(0)\n",
    "\n",
    "while True:\n",
    "    ret, frame = cap.read()\n",
    "    gray_frame = cv2.cvtColor(frame, cv2.COLOR_BGR2GRAY)\n",
    "    faces = face_cascade.detectMultiScale(gray_frame, scaleFactor=1.1, minNeighbors=5)\n",
    "\n",
    "    for (x, y, w, h) in faces:\n",
    "        cv2.rectangle(frame, (x, y), (x+w, y+h), (255, 0, 0), 2)\n",
    "        roi = frame[y:y+h, x:x+w]   # Region of interest  (ROI)\n",
    "    cv2.imshow('Video Feed', frame)\n",
    "    if cv2.waitKey(1) & 0xFF == ord('q'):\n",
    "        break\n",
    "\n",
    "cap.release()\n",
    "cv2.destroyAllWindows()"
   ]
  },
  {
   "cell_type": "code",
   "execution_count": 50,
   "id": "995e9c62-6404-4da7-8786-6b33dcd6a7ba",
   "metadata": {},
   "outputs": [
    {
     "name": "stdout",
     "output_type": "stream",
     "text": [
      "Video with detected faces saved as (output_video)\n"
     ]
    }
   ],
   "source": [
    "face_cascade = cv2.CascadeClassifier(cv2.data.haarcascades + 'haarcascade_frontalface_default.xml')\n",
    "\n",
    "# load the input video file\n",
    "input_video = 'samplevideo.mp4'  # Replace with your video file name\n",
    "cap = cv2.VideoCapture(input_video)\n",
    "\n",
    "# Define the codec and create VideoWriter object to save the output video\n",
    "fourcc = cv2.VideoWriter_fourcc(*'mp4v')   # Codec for .avi files\n",
    "output_video = 'detected_faces.mp4'   # Name of the output video file\n",
    "out = cv2.VideoWriter(output_video, fourcc, int(cap.get(cv2.CAP_PROP_FPS)),\n",
    "                     (int(cap.get(cv2.CAP_PROP_FRAME_WIDTH)), int(cap.get(cv2.CAP_PROP_FRAME_HEIGHT))))\n",
    "\n",
    "while cap.isOpened():\n",
    "    ret, frame = cap.read()\n",
    "    if not ret:\n",
    "        print('No ret')\n",
    "        break\n",
    "\n",
    "\n",
    "    # Convert the frame to grayscale for face detection\n",
    "    gray_frame = cv2.cvtColor(frame, cv2.COLOR_BGR2GRAY)\n",
    "    faces = face_cascade.detectMultiScale(gray_frame, scaleFactor=1.1, minNeighbors=5)\n",
    "\n",
    "    # Draw rectangles around detected faces\n",
    "    for (x, y, w, h) in faces:\n",
    "        cv2.rectangle(frame, (x, y), (x+w, y+h), (255, 0, 0), 2)\n",
    "\n",
    "    # Write the processed frame to the output video file\n",
    "    out.write(frame)\n",
    "    \n",
    "    # Optionally display the frame  (comment out if not needed)   \n",
    "    cv2.imshow('Video Feed', frame)\n",
    "    if cv2.waitKey(1) & 0xFF == ord('q'):\n",
    "        break\n",
    "\n",
    "# Release resources\n",
    "cap.release()\n",
    "out.release()\n",
    "cv2.destroyAllWindows()\n",
    "\n",
    "print(f\"Video with detected faces saved as (output_video)\")"
   ]
  },
  {
   "cell_type": "code",
   "execution_count": null,
   "id": "348ac9b9-eecb-4da8-8802-59717c9145f1",
   "metadata": {},
   "outputs": [],
   "source": []
  }
 ],
 "metadata": {
  "kernelspec": {
   "display_name": "Python 3 (ipykernel)",
   "language": "python",
   "name": "python3"
  },
  "language_info": {
   "codemirror_mode": {
    "name": "ipython",
    "version": 3
   },
   "file_extension": ".py",
   "mimetype": "text/x-python",
   "name": "python",
   "nbconvert_exporter": "python",
   "pygments_lexer": "ipython3",
   "version": "3.12.7"
  }
 },
 "nbformat": 4,
 "nbformat_minor": 5
}
